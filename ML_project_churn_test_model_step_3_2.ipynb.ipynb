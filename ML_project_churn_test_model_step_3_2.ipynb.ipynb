{
 "cells": [
  {
   "cell_type": "markdown",
   "metadata": {
    "id": "mCvG3HpmbRKo"
   },
   "source": [
    "Строим запрос к нашему сервису"
   ]
  },
  {
   "cell_type": "code",
   "execution_count": 1,
   "metadata": {
    "executionInfo": {
     "elapsed": 3,
     "status": "ok",
     "timestamp": 1636234485219,
     "user": {
      "displayName": "Людмила Сбитнева",
      "photoUrl": "https://lh3.googleusercontent.com/a-/AOh14Gj8CtMYy42MoNGeIz6jIjCA3I29vvOI1W2mejqk5g=s64",
      "userId": "03088977733272736109"
     },
     "user_tz": -180
    },
    "id": "Cxm28pii80xp"
   },
   "outputs": [],
   "source": [
    "import requests\n",
    "\n",
    "import urllib.request\n",
    "import json "
   ]
  },
  {
   "cell_type": "code",
   "execution_count": 2,
   "metadata": {
    "colab": {
     "base_uri": "https://localhost:8080/"
    },
    "executionInfo": {
     "elapsed": 22436,
     "status": "ok",
     "timestamp": 1636234509923,
     "user": {
      "displayName": "Людмила Сбитнева",
      "photoUrl": "https://lh3.googleusercontent.com/a-/AOh14Gj8CtMYy42MoNGeIz6jIjCA3I29vvOI1W2mejqk5g=s64",
      "userId": "03088977733272736109"
     },
     "user_tz": -180
    },
    "id": "6V-idVqVcMgk",
    "outputId": "9feccd50-5ad9-4ccc-fd7d-2f6779d287a0"
   },
   "outputs": [
    {
     "name": "stdout",
     "output_type": "stream",
     "text": [
      "Mounted at /content/drive\n"
     ]
    }
   ],
   "source": [
    "# Подключение к Google drive\n",
    "\n",
    "from google.colab import drive\n",
    "drive.mount('/content/drive')"
   ]
  },
  {
   "cell_type": "code",
   "execution_count": 3,
   "metadata": {
    "executionInfo": {
     "elapsed": 275,
     "status": "ok",
     "timestamp": 1636234513134,
     "user": {
      "displayName": "Людмила Сбитнева",
      "photoUrl": "https://lh3.googleusercontent.com/a-/AOh14Gj8CtMYy42MoNGeIz6jIjCA3I29vvOI1W2mejqk5g=s64",
      "userId": "03088977733272736109"
     },
     "user_tz": -180
    },
    "id": "inZmP12JcAT6"
   },
   "outputs": [],
   "source": [
    "path2='/content/drive/MyDrive/Colab_Notebooks/ML_in_business/COLLAB_PROJ/My_project_ML_API_Collab/'"
   ]
  },
  {
   "cell_type": "code",
   "execution_count": 4,
   "metadata": {
    "colab": {
     "base_uri": "https://localhost:8080/"
    },
    "executionInfo": {
     "elapsed": 3802,
     "status": "ok",
     "timestamp": 1636234520707,
     "user": {
      "displayName": "Людмила Сбитнева",
      "photoUrl": "https://lh3.googleusercontent.com/a-/AOh14Gj8CtMYy42MoNGeIz6jIjCA3I29vvOI1W2mejqk5g=s64",
      "userId": "03088977733272736109"
     },
     "user_tz": -180
    },
    "id": "lgT1dMjMcVCB",
    "outputId": "5d3b1a30-7eea-4f3a-99b5-a3916c19ccb4"
   },
   "outputs": [
    {
     "name": "stdout",
     "output_type": "stream",
     "text": [
      "Collecting flask-ngrok\n",
      "  Downloading flask_ngrok-0.0.25-py3-none-any.whl (3.1 kB)\n",
      "Requirement already satisfied: requests in /usr/local/lib/python3.7/dist-packages (from flask-ngrok) (2.23.0)\n",
      "Requirement already satisfied: Flask>=0.8 in /usr/local/lib/python3.7/dist-packages (from flask-ngrok) (1.1.4)\n",
      "Requirement already satisfied: itsdangerous<2.0,>=0.24 in /usr/local/lib/python3.7/dist-packages (from Flask>=0.8->flask-ngrok) (1.1.0)\n",
      "Requirement already satisfied: Werkzeug<2.0,>=0.15 in /usr/local/lib/python3.7/dist-packages (from Flask>=0.8->flask-ngrok) (1.0.1)\n",
      "Requirement already satisfied: click<8.0,>=5.1 in /usr/local/lib/python3.7/dist-packages (from Flask>=0.8->flask-ngrok) (7.1.2)\n",
      "Requirement already satisfied: Jinja2<3.0,>=2.10.1 in /usr/local/lib/python3.7/dist-packages (from Flask>=0.8->flask-ngrok) (2.11.3)\n",
      "Requirement already satisfied: MarkupSafe>=0.23 in /usr/local/lib/python3.7/dist-packages (from Jinja2<3.0,>=2.10.1->Flask>=0.8->flask-ngrok) (2.0.1)\n",
      "Requirement already satisfied: idna<3,>=2.5 in /usr/local/lib/python3.7/dist-packages (from requests->flask-ngrok) (2.10)\n",
      "Requirement already satisfied: urllib3!=1.25.0,!=1.25.1,<1.26,>=1.21.1 in /usr/local/lib/python3.7/dist-packages (from requests->flask-ngrok) (1.24.3)\n",
      "Requirement already satisfied: certifi>=2017.4.17 in /usr/local/lib/python3.7/dist-packages (from requests->flask-ngrok) (2021.5.30)\n",
      "Requirement already satisfied: chardet<4,>=3.0.2 in /usr/local/lib/python3.7/dist-packages (from requests->flask-ngrok) (3.0.4)\n",
      "Installing collected packages: flask-ngrok\n",
      "Successfully installed flask-ngrok-0.0.25\n"
     ]
    }
   ],
   "source": [
    "!pip install flask-ngrok"
   ]
  },
  {
   "cell_type": "code",
   "execution_count": 5,
   "metadata": {
    "colab": {
     "base_uri": "https://localhost:8080/"
    },
    "executionInfo": {
     "elapsed": 853,
     "status": "ok",
     "timestamp": 1636234524578,
     "user": {
      "displayName": "Людмила Сбитнева",
      "photoUrl": "https://lh3.googleusercontent.com/a-/AOh14Gj8CtMYy42MoNGeIz6jIjCA3I29vvOI1W2mejqk5g=s64",
      "userId": "03088977733272736109"
     },
     "user_tz": -180
    },
    "id": "rBEJCKIxcuUW",
    "outputId": "885e2ad8-78e8-4bbd-de62-bbaced224858"
   },
   "outputs": [
    {
     "name": "stderr",
     "output_type": "stream",
     "text": [
      "/usr/local/lib/python3.7/dist-packages/sklearn/utils/deprecation.py:144: FutureWarning: The sklearn.metrics.scorer module is  deprecated in version 0.22 and will be removed in version 0.24. The corresponding classes / functions should instead be imported from sklearn.metrics. Anything that cannot be imported from sklearn.metrics is now part of the private API.\n",
      "  warnings.warn(message, FutureWarning)\n"
     ]
    }
   ],
   "source": [
    "import pandas as pd\n",
    "import numpy as np\n",
    "from sklearn.metrics import roc_auc_score,roc_curve,scorer\n",
    "import dill"
   ]
  },
  {
   "cell_type": "code",
   "execution_count": 7,
   "metadata": {
    "executionInfo": {
     "elapsed": 1396,
     "status": "ok",
     "timestamp": 1636189615049,
     "user": {
      "displayName": "Людмила Сбитнева",
      "photoUrl": "https://lh3.googleusercontent.com/a-/AOh14Gj8CtMYy42MoNGeIz6jIjCA3I29vvOI1W2mejqk5g=s64",
      "userId": "03088977733272736109"
     },
     "user_tz": -180
    },
    "id": "AoGx5GpAcWgJ"
   },
   "outputs": [],
   "source": [
    "X_test = pd.read_csv(path2+\"X_test.csv\")\n",
    "y_test = pd.read_csv(path2+\"y_test.csv\")"
   ]
  },
  {
   "cell_type": "code",
   "execution_count": 9,
   "metadata": {
    "colab": {
     "base_uri": "https://localhost:8080/"
    },
    "executionInfo": {
     "elapsed": 334,
     "status": "ok",
     "timestamp": 1636155328475,
     "user": {
      "displayName": "Людмила Сбитнева",
      "photoUrl": "https://lh3.googleusercontent.com/a-/AOh14Gj8CtMYy42MoNGeIz6jIjCA3I29vvOI1W2mejqk5g=s64",
      "userId": "03088977733272736109"
     },
     "user_tz": -180
    },
    "id": "kqeePbWYcCpF",
    "outputId": "6f51a07e-873f-4d78-ab9d-4cc5a5837bdb"
   },
   "outputs": [
    {
     "name": "stdout",
     "output_type": "stream",
     "text": [
      "[[160.0, 1.0, 0.0, 0.0, 3.0, 256.0, 111.0, 60.0, 9.37, 11.5]]\n"
     ]
    }
   ],
   "source": [
    "test_one = X_test.iloc[:1]\n",
    "print(test_one.values.tolist())"
   ]
  },
  {
   "cell_type": "code",
   "execution_count": 7,
   "metadata": {
    "colab": {
     "base_uri": "https://localhost:8080/"
    },
    "executionInfo": {
     "elapsed": 252,
     "status": "ok",
     "timestamp": 1636234576990,
     "user": {
      "displayName": "Людмила Сбитнева",
      "photoUrl": "https://lh3.googleusercontent.com/a-/AOh14Gj8CtMYy42MoNGeIz6jIjCA3I29vvOI1W2mejqk5g=s64",
      "userId": "03088977733272736109"
     },
     "user_tz": -180
    },
    "id": "J_xtPIQt8toy",
    "outputId": "7f2c4791-1236-4342-b6ee-5cea2c2b4937"
   },
   "outputs": [
    {
     "name": "stdout",
     "output_type": "stream",
     "text": [
      "('160.0', '1.0', '0.0', '0.0', '3.0', '256.0', '111.0', '60.0', '9.37', '11.5')\n",
      "160.0\n",
      "{'AccountWeeks': '160.0', 'ContractRenewal': '1.0', 'DataPlan': '0.0', 'DataUsage': '0.0', 'CustServCalls': '3.0', 'DayMins': '256.0', 'DayCalls': '111.0', 'MonthlyCharge': '60.0', 'OverageFee': '9.37', 'RoamMins': '11.5'}\n",
      "предсказание 0.27\n"
     ]
    }
   ],
   "source": [
    "# Пример данных\n",
    "data = (\"160.0\", \"1.0\", \"0.0\", \"0.0\", \"3.0\", \"256.0\", \"111.0\", \"60.0\", \"9.37\", \"11.5\")\n",
    "print(data)\n",
    "\n",
    "# формируем запрос\n",
    "def send_json(x):\n",
    "    accountweeks, contractrenewal, dataplan, datausage, custservcalls, daymins, daycalls, monthlycharge, overagefee, roammins = x\n",
    "    print(accountweeks)\n",
    "    body = {'AccountWeeks': accountweeks, \n",
    "            'ContractRenewal': contractrenewal, \n",
    "            'DataPlan': dataplan, \n",
    "            'DataUsage': datausage,\n",
    "            'CustServCalls': custservcalls, \n",
    "            'DayMins': daymins, \n",
    "            'DayCalls': daycalls, \n",
    "            'MonthlyCharge': monthlycharge, \n",
    "            'OverageFee': overagefee,\n",
    "            'RoamMins': roammins} \n",
    "    #print(body)\n",
    "    myurl = 'http://6400-35-221-47-149.ngrok.io/'+'predict'\n",
    "    headers = {'content-type': 'application/json; charset=utf-8'}\n",
    "    response = requests.post(myurl, json=body, headers=headers)\n",
    "    return response.json()['predictions']\n",
    "\n",
    "# обращение к серверу с запросом из одного набора (его построили руками выше - data)\n",
    "if __name__ == '__main__':\n",
    "    response = send_json(data)\n",
    "    print('предсказание',response)"
   ]
  },
  {
   "cell_type": "markdown",
   "metadata": {
    "id": "0ap3kT0Ndwy8"
   },
   "source": [
    "Сделаем обработку массы запросов:\n",
    "\n",
    "1. загрузим данные X_test"
   ]
  },
  {
   "cell_type": "code",
   "execution_count": null,
   "metadata": {
    "id": "T0ihBaAXF3aT"
   },
   "outputs": [],
   "source": [
    "\n",
    "path2='/content/gdrive/MyDrive/Colab_Notebooks/ML_in_business/COLLAB_PROJ/'"
   ]
  },
  {
   "cell_type": "code",
   "execution_count": 9,
   "metadata": {
    "executionInfo": {
     "elapsed": 630,
     "status": "ok",
     "timestamp": 1636234799870,
     "user": {
      "displayName": "Людмила Сбитнева",
      "photoUrl": "https://lh3.googleusercontent.com/a-/AOh14Gj8CtMYy42MoNGeIz6jIjCA3I29vvOI1W2mejqk5g=s64",
      "userId": "03088977733272736109"
     },
     "user_tz": -180
    },
    "id": "86un8JyLFzIy"
   },
   "outputs": [],
   "source": [
    "import pandas as pd\n",
    "from sklearn.metrics import roc_auc_score,roc_curve,scorer\n",
    "from urllib import request, parse\n",
    "\n",
    "X_test = pd.read_csv(path2+\"X_test.csv\")\n",
    "y_test = pd.read_csv(path2+\"y_test.csv\")"
   ]
  },
  {
   "cell_type": "markdown",
   "metadata": {
    "id": "EEI1n7m4d6hl"
   },
   "source": [
    "2. Передаем запрос одиночный из наших данных и посмотрим на ответ"
   ]
  },
  {
   "cell_type": "code",
   "execution_count": 11,
   "metadata": {
    "colab": {
     "base_uri": "https://localhost:8080/"
    },
    "executionInfo": {
     "elapsed": 244,
     "status": "ok",
     "timestamp": 1636235164989,
     "user": {
      "displayName": "Людмила Сбитнева",
      "photoUrl": "https://lh3.googleusercontent.com/a-/AOh14Gj8CtMYy42MoNGeIz6jIjCA3I29vvOI1W2mejqk5g=s64",
      "userId": "03088977733272736109"
     },
     "user_tz": -180
    },
    "id": "6hdMT1q39TuA",
    "outputId": "beec373b-61e0-4411-e11c-a06d7eef68f6"
   },
   "outputs": [
    {
     "name": "stdout",
     "output_type": "stream",
     "text": [
      "<class 'pandas.core.frame.DataFrame'>\n",
      "RangeIndex: 834 entries, 0 to 833\n",
      "Data columns (total 10 columns):\n",
      " #   Column           Non-Null Count  Dtype \n",
      "---  ------           --------------  ----- \n",
      " 0   AccountWeeks     834 non-null    object\n",
      " 1   ContractRenewal  834 non-null    object\n",
      " 2   DataPlan         834 non-null    object\n",
      " 3   DataUsage        834 non-null    object\n",
      " 4   CustServCalls    834 non-null    object\n",
      " 5   DayMins          834 non-null    object\n",
      " 6   DayCalls         834 non-null    object\n",
      " 7   MonthlyCharge    834 non-null    object\n",
      " 8   OverageFee       834 non-null    object\n",
      " 9   RoamMins         834 non-null    object\n",
      "dtypes: object(10)\n",
      "memory usage: 65.3+ KB\n"
     ]
    }
   ],
   "source": [
    "X_test = X_test[['AccountWeeks', 'ContractRenewal', 'DataPlan', 'DataUsage', 'CustServCalls', 'DayMins', 'DayCalls', 'MonthlyCharge', 'OverageFee', 'RoamMins']].astype(str)\n",
    "X_test.info()"
   ]
  },
  {
   "cell_type": "code",
   "execution_count": 12,
   "metadata": {
    "colab": {
     "base_uri": "https://localhost:8080/"
    },
    "executionInfo": {
     "elapsed": 263,
     "status": "ok",
     "timestamp": 1636235176002,
     "user": {
      "displayName": "Людмила Сбитнева",
      "photoUrl": "https://lh3.googleusercontent.com/a-/AOh14Gj8CtMYy42MoNGeIz6jIjCA3I29vvOI1W2mejqk5g=s64",
      "userId": "03088977733272736109"
     },
     "user_tz": -180
    },
    "id": "K1nmiHNfNvEy",
    "outputId": "6742f2f9-af92-432d-e1ff-c99f4c0ebc75"
   },
   "outputs": [
    {
     "name": "stdout",
     "output_type": "stream",
     "text": [
      "160\n",
      "{'AccountWeeks': '160', 'ContractRenewal': '1', 'DataPlan': '0', 'DataUsage': '0.0', 'CustServCalls': '3', 'DayMins': '256.0', 'DayCalls': '111', 'MonthlyCharge': '60.0', 'OverageFee': '9.37', 'RoamMins': '11.5'}\n"
     ]
    }
   ],
   "source": [
    "response = send_json(X_test[['AccountWeeks', 'ContractRenewal', 'DataPlan', 'DataUsage',\n",
    "                             'CustServCalls', 'DayMins', 'DayCalls', 'MonthlyCharge', 'OverageFee', 'RoamMins']].iloc[0,:])"
   ]
  },
  {
   "cell_type": "code",
   "execution_count": 13,
   "metadata": {
    "colab": {
     "base_uri": "https://localhost:8080/"
    },
    "executionInfo": {
     "elapsed": 260,
     "status": "ok",
     "timestamp": 1636235180869,
     "user": {
      "displayName": "Людмила Сбитнева",
      "photoUrl": "https://lh3.googleusercontent.com/a-/AOh14Gj8CtMYy42MoNGeIz6jIjCA3I29vvOI1W2mejqk5g=s64",
      "userId": "03088977733272736109"
     },
     "user_tz": -180
    },
    "id": "bfMibegjGgKq",
    "outputId": "b1b57fc7-d9cc-46a6-a997-f8be0a35eaef"
   },
   "outputs": [
    {
     "data": {
      "text/plain": [
       "0.27"
      ]
     },
     "execution_count": 13,
     "metadata": {},
     "output_type": "execute_result"
    }
   ],
   "source": [
    "response"
   ]
  },
  {
   "cell_type": "markdown",
   "metadata": {
    "id": "mPcCXiQ1eMwN"
   },
   "source": [
    "3. Сделаем N запросов и оценим время"
   ]
  },
  {
   "cell_type": "code",
   "execution_count": 15,
   "metadata": {
    "executionInfo": {
     "elapsed": 314,
     "status": "ok",
     "timestamp": 1636235229579,
     "user": {
      "displayName": "Людмила Сбитнева",
      "photoUrl": "https://lh3.googleusercontent.com/a-/AOh14Gj8CtMYy42MoNGeIz6jIjCA3I29vvOI1W2mejqk5g=s64",
      "userId": "03088977733272736109"
     },
     "user_tz": -180
    },
    "id": "B8rN18B4qCJV"
   },
   "outputs": [],
   "source": [
    "N = 50"
   ]
  },
  {
   "cell_type": "code",
   "execution_count": 16,
   "metadata": {
    "colab": {
     "base_uri": "https://localhost:8080/"
    },
    "executionInfo": {
     "elapsed": 4971,
     "status": "ok",
     "timestamp": 1636235235973,
     "user": {
      "displayName": "Людмила Сбитнева",
      "photoUrl": "https://lh3.googleusercontent.com/a-/AOh14Gj8CtMYy42MoNGeIz6jIjCA3I29vvOI1W2mejqk5g=s64",
      "userId": "03088977733272736109"
     },
     "user_tz": -180
    },
    "id": "UbD-kDI7j5G_",
    "outputId": "a034e455-06b0-43ee-944c-3e2efddc51ad"
   },
   "outputs": [
    {
     "name": "stdout",
     "output_type": "stream",
     "text": [
      "160\n",
      "{'AccountWeeks': '160', 'ContractRenewal': '1', 'DataPlan': '0', 'DataUsage': '0.0', 'CustServCalls': '3', 'DayMins': '256.0', 'DayCalls': '111', 'MonthlyCharge': '60.0', 'OverageFee': '9.37', 'RoamMins': '11.5'}\n",
      "132\n",
      "{'AccountWeeks': '132', 'ContractRenewal': '1', 'DataPlan': '0', 'DataUsage': '0.0', 'CustServCalls': '3', 'DayMins': '240.1', 'DayCalls': '115', 'MonthlyCharge': '57.0', 'OverageFee': '9.02', 'RoamMins': '8.0'}\n",
      "143\n",
      "{'AccountWeeks': '143', 'ContractRenewal': '1', 'DataPlan': '0', 'DataUsage': '0.29', 'CustServCalls': '1', 'DayMins': '110.1', 'DayCalls': '113', 'MonthlyCharge': '36.9', 'OverageFee': '8.45', 'RoamMins': '9.2'}\n",
      "84\n",
      "{'AccountWeeks': '84', 'ContractRenewal': '1', 'DataPlan': '1', 'DataUsage': '2.03', 'CustServCalls': '4', 'DayMins': '207.5', 'DayCalls': '138', 'MonthlyCharge': '73.3', 'OverageFee': '10.05', 'RoamMins': '7.5'}\n",
      "100\n",
      "{'AccountWeeks': '100', 'ContractRenewal': '0', 'DataPlan': '0', 'DataUsage': '0.19', 'CustServCalls': '0', 'DayMins': '68.5', 'DayCalls': '110', 'MonthlyCharge': '42.9', 'OverageFee': '16.86', 'RoamMins': '12.1'}\n",
      "95\n",
      "{'AccountWeeks': '95', 'ContractRenewal': '1', 'DataPlan': '1', 'DataUsage': '3.21', 'CustServCalls': '0', 'DayMins': '40.9', 'DayCalls': '126', 'MonthlyCharge': '51.1', 'OverageFee': '6.67', 'RoamMins': '11.9'}\n",
      "93\n",
      "{'AccountWeeks': '93', 'ContractRenewal': '1', 'DataPlan': '0', 'DataUsage': '0.0', 'CustServCalls': '2', 'DayMins': '164.9', 'DayCalls': '68', 'MonthlyCharge': '46.0', 'OverageFee': '10.52', 'RoamMins': '7.8'}\n",
      "107\n",
      "{'AccountWeeks': '107', 'ContractRenewal': '1', 'DataPlan': '0', 'DataUsage': '0.0', 'CustServCalls': '1', 'DayMins': '230.4', 'DayCalls': '65', 'MonthlyCharge': '62.0', 'OverageFee': '12.87', 'RoamMins': '8.5'}\n",
      "120\n",
      "{'AccountWeeks': '120', 'ContractRenewal': '1', 'DataPlan': '0', 'DataUsage': '0.0', 'CustServCalls': '1', 'DayMins': '165.0', 'DayCalls': '100', 'MonthlyCharge': '56.0', 'OverageFee': '15.86', 'RoamMins': '8.3'}\n",
      "92\n",
      "{'AccountWeeks': '92', 'ContractRenewal': '1', 'DataPlan': '0', 'DataUsage': '0.0', 'CustServCalls': '2', 'DayMins': '139.8', 'DayCalls': '98', 'MonthlyCharge': '39.0', 'OverageFee': '8.75', 'RoamMins': '9.4'}\n",
      "127\n",
      "{'AccountWeeks': '127', 'ContractRenewal': '1', 'DataPlan': '0', 'DataUsage': '0.0', 'CustServCalls': '1', 'DayMins': '239.8', 'DayCalls': '107', 'MonthlyCharge': '52.0', 'OverageFee': '6.45', 'RoamMins': '11.3'}\n",
      "97\n",
      "{'AccountWeeks': '97', 'ContractRenewal': '1', 'DataPlan': '0', 'DataUsage': '0.0', 'CustServCalls': '0', 'DayMins': '215.3', 'DayCalls': '58', 'MonthlyCharge': '58.0', 'OverageFee': '12.12', 'RoamMins': '12.1'}\n",
      "112\n",
      "{'AccountWeeks': '112', 'ContractRenewal': '1', 'DataPlan': '0', 'DataUsage': '0.0', 'CustServCalls': '2', 'DayMins': '101.1', 'DayCalls': '119', 'MonthlyCharge': '36.0', 'OverageFee': '10.72', 'RoamMins': '10.3'}\n",
      "85\n",
      "{'AccountWeeks': '85', 'ContractRenewal': '1', 'DataPlan': '1', 'DataUsage': '3.65', 'CustServCalls': '1', 'DayMins': '207.9', 'DayCalls': '95', 'MonthlyCharge': '92.5', 'OverageFee': '11.68', 'RoamMins': '13.5'}\n",
      "110\n",
      "{'AccountWeeks': '110', 'ContractRenewal': '0', 'DataPlan': '0', 'DataUsage': '0.0', 'CustServCalls': '0', 'DayMins': '293.3', 'DayCalls': '79', 'MonthlyCharge': '66.0', 'OverageFee': '9.43', 'RoamMins': '14.5'}\n",
      "93\n",
      "{'AccountWeeks': '93', 'ContractRenewal': '0', 'DataPlan': '0', 'DataUsage': '0.0', 'CustServCalls': '1', 'DayMins': '216.9', 'DayCalls': '61', 'MonthlyCharge': '55.0', 'OverageFee': '10.37', 'RoamMins': '17.5'}\n",
      "152\n",
      "{'AccountWeeks': '152', 'ContractRenewal': '1', 'DataPlan': '0', 'DataUsage': '0.0', 'CustServCalls': '3', 'DayMins': '197.1', 'DayCalls': '126', 'MonthlyCharge': '45.0', 'OverageFee': '6.51', 'RoamMins': '7.4'}\n",
      "113\n",
      "{'AccountWeeks': '113', 'ContractRenewal': '1', 'DataPlan': '0', 'DataUsage': '0.0', 'CustServCalls': '1', 'DayMins': '186.0', 'DayCalls': '55', 'MonthlyCharge': '52.0', 'OverageFee': '11.87', 'RoamMins': '12.2'}\n",
      "62\n",
      "{'AccountWeeks': '62', 'ContractRenewal': '1', 'DataPlan': '0', 'DataUsage': '0.0', 'CustServCalls': '0', 'DayMins': '172.4', 'DayCalls': '132', 'MonthlyCharge': '49.0', 'OverageFee': '11.53', 'RoamMins': '11.0'}\n",
      "169\n",
      "{'AccountWeeks': '169', 'ContractRenewal': '1', 'DataPlan': '0', 'DataUsage': '0.0', 'CustServCalls': '2', 'DayMins': '142.5', 'DayCalls': '82', 'MonthlyCharge': '44.0', 'OverageFee': '11.57', 'RoamMins': '10.0'}\n",
      "77\n",
      "{'AccountWeeks': '77', 'ContractRenewal': '1', 'DataPlan': '1', 'DataUsage': '4.13', 'CustServCalls': '5', 'DayMins': '143.0', 'DayCalls': '101', 'MonthlyCharge': '84.3', 'OverageFee': '10.61', 'RoamMins': '15.3'}\n",
      "87\n",
      "{'AccountWeeks': '87', 'ContractRenewal': '1', 'DataPlan': '0', 'DataUsage': '0.42', 'CustServCalls': '3', 'DayMins': '223.2', 'DayCalls': '109', 'MonthlyCharge': '53.2', 'OverageFee': '6.38', 'RoamMins': '14.5'}\n",
      "61\n",
      "{'AccountWeeks': '61', 'ContractRenewal': '1', 'DataPlan': '0', 'DataUsage': '0.2', 'CustServCalls': '1', 'DayMins': '234.2', 'DayCalls': '76', 'MonthlyCharge': '61.0', 'OverageFee': '10.84', 'RoamMins': '13.9'}\n",
      "90\n",
      "{'AccountWeeks': '90', 'ContractRenewal': '1', 'DataPlan': '0', 'DataUsage': '0.22', 'CustServCalls': '0', 'DayMins': '145.6', 'DayCalls': '103', 'MonthlyCharge': '44.2', 'OverageFee': '9.86', 'RoamMins': '10.5'}\n",
      "106\n",
      "{'AccountWeeks': '106', 'ContractRenewal': '1', 'DataPlan': '1', 'DataUsage': '2.21', 'CustServCalls': '3', 'DayMins': '88.5', 'DayCalls': '100', 'MonthlyCharge': '65.1', 'OverageFee': '16.24', 'RoamMins': '8.2'}\n",
      "159\n",
      "{'AccountWeeks': '159', 'ContractRenewal': '1', 'DataPlan': '1', 'DataUsage': '4.56', 'CustServCalls': '0', 'DayMins': '184.1', 'DayCalls': '78', 'MonthlyCharge': '93.6', 'OverageFee': '9.73', 'RoamMins': '16.9'}\n",
      "100\n",
      "{'AccountWeeks': '100', 'ContractRenewal': '1', 'DataPlan': '1', 'DataUsage': '4.29', 'CustServCalls': '1', 'DayMins': '153.7', 'DayCalls': '115', 'MonthlyCharge': '80.9', 'OverageFee': '6.89', 'RoamMins': '15.9'}\n",
      "126\n",
      "{'AccountWeeks': '126', 'ContractRenewal': '1', 'DataPlan': '0', 'DataUsage': '0.0', 'CustServCalls': '1', 'DayMins': '211.6', 'DayCalls': '70', 'MonthlyCharge': '55.0', 'OverageFee': '10.85', 'RoamMins': '7.8'}\n",
      "114\n",
      "{'AccountWeeks': '114', 'ContractRenewal': '1', 'DataPlan': '1', 'DataUsage': '3.08', 'CustServCalls': '1', 'DayMins': '206.2', 'DayCalls': '79', 'MonthlyCharge': '88.8', 'OverageFee': '13.0', 'RoamMins': '11.4'}\n",
      "95\n",
      "{'AccountWeeks': '95', 'ContractRenewal': '1', 'DataPlan': '0', 'DataUsage': '0.0', 'CustServCalls': '0', 'DayMins': '160.0', 'DayCalls': '133', 'MonthlyCharge': '46.0', 'OverageFee': '10.77', 'RoamMins': '9.1'}\n",
      "149\n",
      "{'AccountWeeks': '149', 'ContractRenewal': '1', 'DataPlan': '0', 'DataUsage': '0.0', 'CustServCalls': '2', 'DayMins': '196.3', 'DayCalls': '108', 'MonthlyCharge': '45.0', 'OverageFee': '6.84', 'RoamMins': '7.7'}\n",
      "103\n",
      "{'AccountWeeks': '103', 'ContractRenewal': '1', 'DataPlan': '0', 'DataUsage': '0.0', 'CustServCalls': '1', 'DayMins': '246.5', 'DayCalls': '47', 'MonthlyCharge': '59.0', 'OverageFee': '9.78', 'RoamMins': '11.7'}\n",
      "127\n",
      "{'AccountWeeks': '127', 'ContractRenewal': '1', 'DataPlan': '1', 'DataUsage': '1.38', 'CustServCalls': '0', 'DayMins': '82.2', 'DayCalls': '95', 'MonthlyCharge': '41.8', 'OverageFee': '8.17', 'RoamMins': '5.1'}\n",
      "33\n",
      "{'AccountWeeks': '33', 'ContractRenewal': '1', 'DataPlan': '0', 'DataUsage': '0.0', 'CustServCalls': '2', 'DayMins': '251.9', 'DayCalls': '81', 'MonthlyCharge': '60.0', 'OverageFee': '9.73', 'RoamMins': '8.4'}\n",
      "108\n",
      "{'AccountWeeks': '108', 'ContractRenewal': '1', 'DataPlan': '0', 'DataUsage': '0.34', 'CustServCalls': '0', 'DayMins': '178.3', 'DayCalls': '137', 'MonthlyCharge': '50.4', 'OverageFee': '9.45', 'RoamMins': '14.6'}\n",
      "173\n",
      "{'AccountWeeks': '173', 'ContractRenewal': '1', 'DataPlan': '0', 'DataUsage': '0.0', 'CustServCalls': '1', 'DayMins': '191.4', 'DayCalls': '114', 'MonthlyCharge': '47.0', 'OverageFee': '8.43', 'RoamMins': '10.3'}\n",
      "112\n",
      "{'AccountWeeks': '112', 'ContractRenewal': '1', 'DataPlan': '1', 'DataUsage': '2.62', 'CustServCalls': '0', 'DayMins': '183.2', 'DayCalls': '95', 'MonthlyCharge': '79.2', 'OverageFee': '12.64', 'RoamMins': '9.7'}\n",
      "69\n",
      "{'AccountWeeks': '69', 'ContractRenewal': '1', 'DataPlan': '1', 'DataUsage': '3.56', 'CustServCalls': '2', 'DayMins': '194.9', 'DayCalls': '63', 'MonthlyCharge': '85.6', 'OverageFee': '9.58', 'RoamMins': '13.2'}\n",
      "150\n",
      "{'AccountWeeks': '150', 'ContractRenewal': '1', 'DataPlan': '1', 'DataUsage': '2.38', 'CustServCalls': '2', 'DayMins': '139.6', 'DayCalls': '72', 'MonthlyCharge': '76.8', 'OverageFee': '16.64', 'RoamMins': '8.8'}\n",
      "85\n",
      "{'AccountWeeks': '85', 'ContractRenewal': '1', 'DataPlan': '0', 'DataUsage': '0.0', 'CustServCalls': '2', 'DayMins': '211.5', 'DayCalls': '100', 'MonthlyCharge': '52.0', 'OverageFee': '9.23', 'RoamMins': '13.3'}\n",
      "62\n",
      "{'AccountWeeks': '62', 'ContractRenewal': '1', 'DataPlan': '0', 'DataUsage': '0.0', 'CustServCalls': '1', 'DayMins': '128.7', 'DayCalls': '111', 'MonthlyCharge': '37.0', 'OverageFee': '8.48', 'RoamMins': '10.3'}\n",
      "121\n",
      "{'AccountWeeks': '121', 'ContractRenewal': '1', 'DataPlan': '1', 'DataUsage': '2.03', 'CustServCalls': '0', 'DayMins': '245.0', 'DayCalls': '95', 'MonthlyCharge': '81.3', 'OverageFee': '10.85', 'RoamMins': '7.5'}\n",
      "56\n",
      "{'AccountWeeks': '56', 'ContractRenewal': '1', 'DataPlan': '0', 'DataUsage': '0.37', 'CustServCalls': '0', 'DayMins': '146.1', 'DayCalls': '57', 'MonthlyCharge': '45.7', 'OverageFee': '9.81', 'RoamMins': '9.2'}\n",
      "125\n",
      "{'AccountWeeks': '125', 'ContractRenewal': '1', 'DataPlan': '0', 'DataUsage': '0.3', 'CustServCalls': '2', 'DayMins': '169.3', 'DayCalls': '90', 'MonthlyCharge': '46.0', 'OverageFee': '7.8', 'RoamMins': '11.6'}\n",
      "117\n",
      "{'AccountWeeks': '117', 'ContractRenewal': '1', 'DataPlan': '0', 'DataUsage': '0.39', 'CustServCalls': '5', 'DayMins': '118.4', 'DayCalls': '126', 'MonthlyCharge': '45.9', 'OverageFee': '12.47', 'RoamMins': '13.6'}\n",
      "119\n",
      "{'AccountWeeks': '119', 'ContractRenewal': '1', 'DataPlan': '1', 'DataUsage': '3.24', 'CustServCalls': '3', 'DayMins': '142.6', 'DayCalls': '77', 'MonthlyCharge': '74.4', 'OverageFee': '10.41', 'RoamMins': '12.0'}\n",
      "20\n",
      "{'AccountWeeks': '20', 'ContractRenewal': '1', 'DataPlan': '0', 'DataUsage': '0.0', 'CustServCalls': '2', 'DayMins': '186.8', 'DayCalls': '89', 'MonthlyCharge': '54.0', 'OverageFee': '12.67', 'RoamMins': '12.3'}\n",
      "120\n",
      "{'AccountWeeks': '120', 'ContractRenewal': '1', 'DataPlan': '0', 'DataUsage': '0.0', 'CustServCalls': '2', 'DayMins': '184.5', 'DayCalls': '103', 'MonthlyCharge': '50.0', 'OverageFee': '10.45', 'RoamMins': '10.2'}\n",
      "136\n",
      "{'AccountWeeks': '136', 'ContractRenewal': '1', 'DataPlan': '0', 'DataUsage': '0.0', 'CustServCalls': '1', 'DayMins': '250.2', 'DayCalls': '121', 'MonthlyCharge': '66.0', 'OverageFee': '13.36', 'RoamMins': '13.0'}\n",
      "93\n",
      "{'AccountWeeks': '93', 'ContractRenewal': '1', 'DataPlan': '1', 'DataUsage': '2.65', 'CustServCalls': '1', 'DayMins': '117.9', 'DayCalls': '131', 'MonthlyCharge': '61.5', 'OverageFee': '8.23', 'RoamMins': '9.8'}\n",
      "CPU times: user 227 ms, sys: 23.3 ms, total: 251 ms\n",
      "Wall time: 4.66 s\n"
     ]
    }
   ],
   "source": [
    "%%time\n",
    "predictions = X_test[['AccountWeeks', 'ContractRenewal', 'DataPlan', 'DataUsage',\n",
    "                             'CustServCalls', 'DayMins', 'DayCalls', 'MonthlyCharge', 'OverageFee', 'RoamMins']].iloc[:N,:].apply(lambda x: send_json(x),1)"
   ]
  },
  {
   "cell_type": "code",
   "execution_count": 17,
   "metadata": {
    "colab": {
     "base_uri": "https://localhost:8080/"
    },
    "executionInfo": {
     "elapsed": 347,
     "status": "ok",
     "timestamp": 1636235241960,
     "user": {
      "displayName": "Людмила Сбитнева",
      "photoUrl": "https://lh3.googleusercontent.com/a-/AOh14Gj8CtMYy42MoNGeIz6jIjCA3I29vvOI1W2mejqk5g=s64",
      "userId": "03088977733272736109"
     },
     "user_tz": -180
    },
    "id": "bMtyzhLNo5b7",
    "outputId": "1880c441-5cc8-4db5-be30-c1fabcfbf862"
   },
   "outputs": [
    {
     "data": {
      "text/plain": [
       "array([0.27, 0.14, 0.04, 0.35, 0.29])"
      ]
     },
     "execution_count": 17,
     "metadata": {},
     "output_type": "execute_result"
    }
   ],
   "source": [
    "predictions.values[:5]"
   ]
  },
  {
   "cell_type": "markdown",
   "metadata": {
    "id": "5-Emg5b1eTia"
   },
   "source": [
    "4. Посчитаем метрику roc-auc"
   ]
  },
  {
   "cell_type": "code",
   "execution_count": 18,
   "metadata": {
    "colab": {
     "base_uri": "https://localhost:8080/",
     "height": 204
    },
    "executionInfo": {
     "elapsed": 242,
     "status": "ok",
     "timestamp": 1636235260170,
     "user": {
      "displayName": "Людмила Сбитнева",
      "photoUrl": "https://lh3.googleusercontent.com/a-/AOh14Gj8CtMYy42MoNGeIz6jIjCA3I29vvOI1W2mejqk5g=s64",
      "userId": "03088977733272736109"
     },
     "user_tz": -180
    },
    "id": "qrbuoWWNpDU0",
    "outputId": "125ba6f3-aab0-441e-828a-050a96020ea4"
   },
   "outputs": [
    {
     "data": {
      "text/html": [
       "<div>\n",
       "<style scoped>\n",
       "    .dataframe tbody tr th:only-of-type {\n",
       "        vertical-align: middle;\n",
       "    }\n",
       "\n",
       "    .dataframe tbody tr th {\n",
       "        vertical-align: top;\n",
       "    }\n",
       "\n",
       "    .dataframe thead th {\n",
       "        text-align: right;\n",
       "    }\n",
       "</style>\n",
       "<table border=\"1\" class=\"dataframe\">\n",
       "  <thead>\n",
       "    <tr style=\"text-align: right;\">\n",
       "      <th></th>\n",
       "      <th>Churn</th>\n",
       "    </tr>\n",
       "  </thead>\n",
       "  <tbody>\n",
       "    <tr>\n",
       "      <th>0</th>\n",
       "      <td>0</td>\n",
       "    </tr>\n",
       "    <tr>\n",
       "      <th>1</th>\n",
       "      <td>0</td>\n",
       "    </tr>\n",
       "    <tr>\n",
       "      <th>2</th>\n",
       "      <td>0</td>\n",
       "    </tr>\n",
       "    <tr>\n",
       "      <th>3</th>\n",
       "      <td>0</td>\n",
       "    </tr>\n",
       "    <tr>\n",
       "      <th>4</th>\n",
       "      <td>0</td>\n",
       "    </tr>\n",
       "  </tbody>\n",
       "</table>\n",
       "</div>"
      ],
      "text/plain": [
       "   Churn\n",
       "0      0\n",
       "1      0\n",
       "2      0\n",
       "3      0\n",
       "4      0"
      ]
     },
     "execution_count": 18,
     "metadata": {},
     "output_type": "execute_result"
    }
   ],
   "source": [
    "y_test.head()"
   ]
  },
  {
   "cell_type": "code",
   "execution_count": 19,
   "metadata": {
    "executionInfo": {
     "elapsed": 260,
     "status": "ok",
     "timestamp": 1636235266706,
     "user": {
      "displayName": "Людмила Сбитнева",
      "photoUrl": "https://lh3.googleusercontent.com/a-/AOh14Gj8CtMYy42MoNGeIz6jIjCA3I29vvOI1W2mejqk5g=s64",
      "userId": "03088977733272736109"
     },
     "user_tz": -180
    },
    "id": "31fbl3kKoqQb"
   },
   "outputs": [],
   "source": [
    "from sklearn.metrics import roc_auc_score,roc_curve,scorer"
   ]
  },
  {
   "cell_type": "code",
   "execution_count": 20,
   "metadata": {
    "colab": {
     "base_uri": "https://localhost:8080/"
    },
    "executionInfo": {
     "elapsed": 233,
     "status": "ok",
     "timestamp": 1636235273545,
     "user": {
      "displayName": "Людмила Сбитнева",
      "photoUrl": "https://lh3.googleusercontent.com/a-/AOh14Gj8CtMYy42MoNGeIz6jIjCA3I29vvOI1W2mejqk5g=s64",
      "userId": "03088977733272736109"
     },
     "user_tz": -180
    },
    "id": "RNQmFOfXnAky",
    "outputId": "4f4c0b9b-1283-4b81-8218-16c05490fb19"
   },
   "outputs": [
    {
     "data": {
      "text/plain": [
       "0.9866666666666667"
      ]
     },
     "execution_count": 20,
     "metadata": {},
     "output_type": "execute_result"
    }
   ],
   "source": [
    "roc_auc_score(y_score=predictions.values, y_true=y_test.values[:N])"
   ]
  },
  {
   "cell_type": "markdown",
   "metadata": {
    "id": "4-wsAkrJebRl"
   },
   "source": [
    "5. Анализ : в целом похоже"
   ]
  }
 ],
 "metadata": {
  "colab": {
   "collapsed_sections": [],
   "name": "test_model_step_3_2.ipynb",
   "provenance": [
    {
     "file_id": "1nK6PLlUQoqCwQXyvhDkliZLOPGlFkfo6",
     "timestamp": 1636153757861
    }
   ]
  },
  "kernelspec": {
   "display_name": "Python 3",
   "language": "python",
   "name": "python3"
  },
  "language_info": {
   "codemirror_mode": {
    "name": "ipython",
    "version": 3
   },
   "file_extension": ".py",
   "mimetype": "text/x-python",
   "name": "python",
   "nbconvert_exporter": "python",
   "pygments_lexer": "ipython3",
   "version": "3.7.11"
  }
 },
 "nbformat": 4,
 "nbformat_minor": 1
}
